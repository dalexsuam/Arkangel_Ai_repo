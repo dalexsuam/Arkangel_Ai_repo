{
 "cells": [
  {
   "cell_type": "markdown",
   "id": "a6a5a8fd",
   "metadata": {},
   "source": [
    "### Importing keras libraries"
   ]
  },
  {
   "cell_type": "code",
   "execution_count": 14,
   "id": "268152f9",
   "metadata": {},
   "outputs": [],
   "source": [
    "from keras.utils import to_categorical\n",
    "from keras.preprocessing.image import load_img\n",
    "from keras.models import Sequential\n",
    "from keras.layers import Dense, Conv2D, Dropout, Flatten, MaxPooling2D"
   ]
  },
  {
   "cell_type": "markdown",
   "id": "1f1dcaac",
   "metadata": {},
   "source": [
    "### Importing other libraries we're gonna use :)"
   ]
  },
  {
   "cell_type": "code",
   "execution_count": 2,
   "id": "fc767f3b",
   "metadata": {},
   "outputs": [],
   "source": [
    "from tqdm import tqdm_notebook as tqdm\n",
    "import matplotlib.pyplot as plt\n",
    "import opendatasets as od\n",
    "import pandas as pd\n",
    "import numpy as np\n",
    "import warnings\n",
    "import os\n",
    "\n",
    "# Settings the warnings to be ignored\n",
    "warnings.filterwarnings('ignore')"
   ]
  },
  {
   "cell_type": "code",
   "execution_count": 3,
   "id": "8e374973",
   "metadata": {},
   "outputs": [
    {
     "name": "stdout",
     "output_type": "stream",
     "text": [
      "Skipping, found downloaded files in \".\\emotion-detection-fer\" (use force=True to force download)\n"
     ]
    }
   ],
   "source": [
    "od.download(\"https://www.kaggle.com/datasets/ananthu017/emotion-detection-fer/\")"
   ]
  },
  {
   "cell_type": "markdown",
   "id": "41869019",
   "metadata": {},
   "source": [
    "### Checking dir addresses and creating df's"
   ]
  },
  {
   "cell_type": "code",
   "execution_count": 4,
   "id": "311e8ecc",
   "metadata": {},
   "outputs": [
    {
     "data": {
      "text/plain": [
       "['.idea',\n",
       " '.ipynb_checkpoints',\n",
       " 'background.jpg',\n",
       " 'Dieguis_GUI.py',\n",
       " 'Dieguis_GUI.rar',\n",
       " 'emotion-detection-fer',\n",
       " 'emotionsdetectormodel.h5',\n",
       " 'emotionsdetectormodel.json',\n",
       " 'fer2013_mini_XCEPTION.102-0.66.hdf5',\n",
       " 'Images',\n",
       " 'Prueba técnica - Arkangel Ai.ipynb',\n",
       " 'Real_time_detection.py',\n",
       " 'Second attempt.ipynb',\n",
       " 'Third_attempt.ipynb',\n",
       " 'UI.py']"
      ]
     },
     "execution_count": 4,
     "metadata": {},
     "output_type": "execute_result"
    }
   ],
   "source": [
    "os.listdir()"
   ]
  },
  {
   "cell_type": "code",
   "execution_count": 5,
   "id": "cee8214e",
   "metadata": {},
   "outputs": [
    {
     "data": {
      "text/plain": [
       "['test', 'train']"
      ]
     },
     "execution_count": 5,
     "metadata": {},
     "output_type": "execute_result"
    }
   ],
   "source": [
    "os.listdir('emotion-detection-fer')"
   ]
  },
  {
   "cell_type": "code",
   "execution_count": 6,
   "id": "97272415",
   "metadata": {},
   "outputs": [],
   "source": [
    "train_dir = \"emotion-detection-fer/train\"\n",
    "test_dir = \"emotion-detection-fer/test\""
   ]
  },
  {
   "cell_type": "code",
   "execution_count": 7,
   "id": "e5827cd7",
   "metadata": {},
   "outputs": [],
   "source": [
    "def CreateDF(_dir):\n",
    "    image_paths = []\n",
    "    labels = []\n",
    "    \n",
    "    for label in os.listdir(_dir):\n",
    "        for image_name in os.listdir(os.path.join(_dir,label)):\n",
    "            image_paths.append(os.path.join(_dir,label,image_name))\n",
    "            labels.append(label)\n",
    "            \n",
    "        print(label, \"Completed\")\n",
    "    return image_paths,labels"
   ]
  },
  {
   "cell_type": "code",
   "execution_count": 8,
   "id": "24903cf9",
   "metadata": {},
   "outputs": [
    {
     "name": "stdout",
     "output_type": "stream",
     "text": [
      "Creating train dataframe . . .\n",
      "angry Completed\n",
      "disgusted Completed\n",
      "fearful Completed\n",
      "happy Completed\n",
      "neutral Completed\n",
      "sad Completed\n",
      "surprised Completed\n",
      "\n",
      " Creating test dataframe . . .\n",
      "angry Completed\n",
      "disgusted Completed\n",
      "fearful Completed\n",
      "happy Completed\n",
      "neutral Completed\n",
      "sad Completed\n",
      "surprised Completed\n"
     ]
    }
   ],
   "source": [
    "print('Creating train dataframe . . .')\n",
    "train = pd.DataFrame()\n",
    "train['image'], train['label'] = CreateDF(train_dir)\n",
    "print('\\n Creating test dataframe . . .')\n",
    "test = pd.DataFrame()\n",
    "test['image'], test['label'] = CreateDF(test_dir)"
   ]
  },
  {
   "cell_type": "code",
   "execution_count": 9,
   "id": "e94635a1",
   "metadata": {},
   "outputs": [
    {
     "name": "stdout",
     "output_type": "stream",
     "text": [
      "                                                 image      label\n",
      "0            emotion-detection-fer/train\\angry\\im0.png      angry\n",
      "1            emotion-detection-fer/train\\angry\\im1.png      angry\n",
      "2           emotion-detection-fer/train\\angry\\im10.png      angry\n",
      "3          emotion-detection-fer/train\\angry\\im100.png      angry\n",
      "4         emotion-detection-fer/train\\angry\\im1000.png      angry\n",
      "...                                                ...        ...\n",
      "28704  emotion-detection-fer/train\\surprised\\im995.png  surprised\n",
      "28705  emotion-detection-fer/train\\surprised\\im996.png  surprised\n",
      "28706  emotion-detection-fer/train\\surprised\\im997.png  surprised\n",
      "28707  emotion-detection-fer/train\\surprised\\im998.png  surprised\n",
      "28708  emotion-detection-fer/train\\surprised\\im999.png  surprised\n",
      "\n",
      "[28709 rows x 2 columns]\n",
      "\n",
      "\n",
      "                                              image      label\n",
      "0          emotion-detection-fer/test\\angry\\im0.png      angry\n",
      "1          emotion-detection-fer/test\\angry\\im1.png      angry\n",
      "2         emotion-detection-fer/test\\angry\\im10.png      angry\n",
      "3        emotion-detection-fer/test\\angry\\im100.png      angry\n",
      "4        emotion-detection-fer/test\\angry\\im101.png      angry\n",
      "...                                             ...        ...\n",
      "7173  emotion-detection-fer/test\\surprised\\im95.png  surprised\n",
      "7174  emotion-detection-fer/test\\surprised\\im96.png  surprised\n",
      "7175  emotion-detection-fer/test\\surprised\\im97.png  surprised\n",
      "7176  emotion-detection-fer/test\\surprised\\im98.png  surprised\n",
      "7177  emotion-detection-fer/test\\surprised\\im99.png  surprised\n",
      "\n",
      "[7178 rows x 2 columns]\n"
     ]
    }
   ],
   "source": [
    "print(train)\n",
    "print('\\n')\n",
    "print(test)"
   ]
  },
  {
   "cell_type": "markdown",
   "id": "b92288a1",
   "metadata": {},
   "source": [
    "### Extracting features"
   ]
  },
  {
   "cell_type": "code",
   "execution_count": 10,
   "id": "418ea538",
   "metadata": {},
   "outputs": [],
   "source": [
    "def ext_features(images):\n",
    "    features = []\n",
    "    for image in tqdm(images):\n",
    "        img = load_img(image, color_mode = \"grayscale\")\n",
    "        img = np.array(img)\n",
    "        features.append(img)\n",
    "    features =  np.array(features)\n",
    "    features = features.reshape(len(features), 48, 48, 1)\n",
    "    \n",
    "    return features"
   ]
  },
  {
   "cell_type": "code",
   "execution_count": 15,
   "id": "bb02af25",
   "metadata": {},
   "outputs": [
    {
     "data": {
      "application/vnd.jupyter.widget-view+json": {
       "model_id": "0619926b9490458e9f2597918dd1a8f7",
       "version_major": 2,
       "version_minor": 0
      },
      "text/plain": [
       "  0%|          | 0/28709 [00:00<?, ?it/s]"
      ]
     },
     "metadata": {},
     "output_type": "display_data"
    },
    {
     "data": {
      "application/vnd.jupyter.widget-view+json": {
       "model_id": "70d7c92c37214471a574628da1c83769",
       "version_major": 2,
       "version_minor": 0
      },
      "text/plain": [
       "  0%|          | 0/7178 [00:00<?, ?it/s]"
      ]
     },
     "metadata": {},
     "output_type": "display_data"
    }
   ],
   "source": [
    "train_features = ext_features(train['image'])\n",
    "test_features = ext_features(test['image'])"
   ]
  },
  {
   "cell_type": "code",
   "execution_count": 16,
   "id": "acc04773",
   "metadata": {},
   "outputs": [],
   "source": [
    "x_train = train_features/255.0\n",
    "x_test = test_features/255.0"
   ]
  },
  {
   "cell_type": "markdown",
   "id": "a162dca5",
   "metadata": {},
   "source": [
    "### Labeling the data"
   ]
  },
  {
   "cell_type": "code",
   "execution_count": 17,
   "id": "88ea05ed",
   "metadata": {},
   "outputs": [],
   "source": [
    "from sklearn.preprocessing import LabelEncoder"
   ]
  },
  {
   "cell_type": "code",
   "execution_count": 18,
   "id": "fa827f2f",
   "metadata": {},
   "outputs": [
    {
     "data": {
      "text/plain": [
       "LabelEncoder()"
      ]
     },
     "execution_count": 18,
     "metadata": {},
     "output_type": "execute_result"
    }
   ],
   "source": [
    "le = LabelEncoder()\n",
    "le.fit(train['label'])"
   ]
  },
  {
   "cell_type": "code",
   "execution_count": 21,
   "id": "23082299",
   "metadata": {},
   "outputs": [],
   "source": [
    "y_train = le.transform(train['label'])\n",
    "y_test = le.transform(test['label'])"
   ]
  },
  {
   "cell_type": "code",
   "execution_count": 23,
   "id": "acfc3e71",
   "metadata": {},
   "outputs": [],
   "source": [
    "y_train = to_categorical(y_train, num_classes = 7)\n",
    "y_test = to_categorical(y_test, num_classes = 7)"
   ]
  },
  {
   "cell_type": "markdown",
   "id": "3ca32e6f",
   "metadata": {},
   "source": [
    "### Model"
   ]
  },
  {
   "cell_type": "code",
   "execution_count": 26,
   "id": "2b637e09",
   "metadata": {},
   "outputs": [],
   "source": [
    "model = Sequential()\n",
    "model.add(Conv2D(128, kernel_size = (3,3), activation='relu', input_shape = (48,48,1)))\n",
    "model.add(MaxPooling2D(pool_size = (2,2)))\n",
    "model.add(Dropout(0.4))\n",
    "\n",
    "model.add(Conv2D(256, kernel_size = (3,3), activation='relu'))\n",
    "model.add(MaxPooling2D(pool_size = (2,2)))\n",
    "model.add(Dropout(0.4))\n",
    "\n",
    "model.add(Conv2D(512, kernel_size = (3,3), activation='relu'))\n",
    "model.add(MaxPooling2D(pool_size = (2,2)))\n",
    "model.add(Dropout(0.4))\n",
    "\n",
    "model.add(Conv2D(512, kernel_size = (3,3), activation='relu'))\n",
    "model.add(MaxPooling2D(pool_size = (2,2)))\n",
    "model.add(Dropout(0.4))\n",
    "\n",
    "model.add(Flatten())\n",
    "\n",
    "#fully connected layers\n",
    "\n",
    "model.add(Dense(512, activation = 'relu'))\n",
    "model.add(Dropout(0.4))\n",
    "model.add(Dense(256, activation = 'relu'))\n",
    "model.add(Dropout(0.4))\n",
    "\n",
    "#output layer\n",
    "\n",
    "model.add(Dense(7, activation = 'softmax'))"
   ]
  },
  {
   "cell_type": "code",
   "execution_count": 29,
   "id": "4f39bc9c",
   "metadata": {},
   "outputs": [],
   "source": [
    "model.compile(optimizer = 'adam', loss = 'categorical_crossentropy', metrics = 'accuracy')"
   ]
  },
  {
   "cell_type": "code",
   "execution_count": 30,
   "id": "e402cb67",
   "metadata": {},
   "outputs": [
    {
     "name": "stdout",
     "output_type": "stream",
     "text": [
      "Epoch 1/100\n",
      "225/225 [==============================] - 382s 2s/step - loss: 1.8254 - accuracy: 0.2474 - val_loss: 1.8135 - val_accuracy: 0.2471\n",
      "Epoch 2/100\n",
      "225/225 [==============================] - 385s 2s/step - loss: 1.8106 - accuracy: 0.2506 - val_loss: 1.8019 - val_accuracy: 0.2471\n",
      "Epoch 3/100\n",
      "225/225 [==============================] - 373s 2s/step - loss: 1.7493 - accuracy: 0.2782 - val_loss: 1.6815 - val_accuracy: 0.3110\n",
      "Epoch 4/100\n",
      "225/225 [==============================] - 371s 2s/step - loss: 1.6299 - accuracy: 0.3538 - val_loss: 1.4776 - val_accuracy: 0.4255\n",
      "Epoch 5/100\n",
      "225/225 [==============================] - 372s 2s/step - loss: 1.5332 - accuracy: 0.4004 - val_loss: 1.4533 - val_accuracy: 0.4280\n",
      "Epoch 6/100\n",
      "225/225 [==============================] - 367s 2s/step - loss: 1.4636 - accuracy: 0.4321 - val_loss: 1.3355 - val_accuracy: 0.4855\n",
      "Epoch 7/100\n",
      "225/225 [==============================] - 364s 2s/step - loss: 1.4174 - accuracy: 0.4538 - val_loss: 1.2912 - val_accuracy: 0.4935\n",
      "Epoch 8/100\n",
      "225/225 [==============================] - 363s 2s/step - loss: 1.3829 - accuracy: 0.4703 - val_loss: 1.2698 - val_accuracy: 0.5059\n",
      "Epoch 9/100\n",
      "225/225 [==============================] - 366s 2s/step - loss: 1.3539 - accuracy: 0.4819 - val_loss: 1.2509 - val_accuracy: 0.5230\n",
      "Epoch 10/100\n",
      "225/225 [==============================] - 369s 2s/step - loss: 1.3350 - accuracy: 0.4894 - val_loss: 1.2360 - val_accuracy: 0.5301\n",
      "Epoch 11/100\n",
      "225/225 [==============================] - 366s 2s/step - loss: 1.3008 - accuracy: 0.5034 - val_loss: 1.2084 - val_accuracy: 0.5315\n",
      "Epoch 12/100\n",
      "225/225 [==============================] - 363s 2s/step - loss: 1.2900 - accuracy: 0.5069 - val_loss: 1.1778 - val_accuracy: 0.5461\n",
      "Epoch 13/100\n",
      "225/225 [==============================] - 364s 2s/step - loss: 1.2718 - accuracy: 0.5171 - val_loss: 1.1917 - val_accuracy: 0.5465\n",
      "Epoch 14/100\n",
      "225/225 [==============================] - 366s 2s/step - loss: 1.2496 - accuracy: 0.5289 - val_loss: 1.1644 - val_accuracy: 0.5486\n",
      "Epoch 15/100\n",
      "225/225 [==============================] - 364s 2s/step - loss: 1.2439 - accuracy: 0.5254 - val_loss: 1.1697 - val_accuracy: 0.5504\n",
      "Epoch 16/100\n",
      "225/225 [==============================] - 368s 2s/step - loss: 1.2250 - accuracy: 0.5342 - val_loss: 1.1469 - val_accuracy: 0.5577\n",
      "Epoch 17/100\n",
      "225/225 [==============================] - 365s 2s/step - loss: 1.2100 - accuracy: 0.5385 - val_loss: 1.1304 - val_accuracy: 0.5699\n",
      "Epoch 18/100\n",
      "225/225 [==============================] - 368s 2s/step - loss: 1.1958 - accuracy: 0.5455 - val_loss: 1.1269 - val_accuracy: 0.5681\n",
      "Epoch 19/100\n",
      "225/225 [==============================] - 369s 2s/step - loss: 1.1899 - accuracy: 0.5462 - val_loss: 1.1352 - val_accuracy: 0.5580\n",
      "Epoch 20/100\n",
      "225/225 [==============================] - 367s 2s/step - loss: 1.1810 - accuracy: 0.5516 - val_loss: 1.1212 - val_accuracy: 0.5658\n",
      "Epoch 21/100\n",
      "225/225 [==============================] - 372s 2s/step - loss: 1.1657 - accuracy: 0.5576 - val_loss: 1.1101 - val_accuracy: 0.5731\n",
      "Epoch 22/100\n",
      "225/225 [==============================] - 367s 2s/step - loss: 1.1636 - accuracy: 0.5601 - val_loss: 1.1040 - val_accuracy: 0.5770\n",
      "Epoch 23/100\n",
      "225/225 [==============================] - 370s 2s/step - loss: 1.1517 - accuracy: 0.5649 - val_loss: 1.0978 - val_accuracy: 0.5819\n",
      "Epoch 24/100\n",
      "225/225 [==============================] - 367s 2s/step - loss: 1.1419 - accuracy: 0.5681 - val_loss: 1.0884 - val_accuracy: 0.5833\n",
      "Epoch 25/100\n",
      "225/225 [==============================] - 365s 2s/step - loss: 1.1367 - accuracy: 0.5717 - val_loss: 1.0849 - val_accuracy: 0.5878\n",
      "Epoch 26/100\n",
      "225/225 [==============================] - 366s 2s/step - loss: 1.1255 - accuracy: 0.5724 - val_loss: 1.0800 - val_accuracy: 0.5865\n",
      "Epoch 27/100\n",
      "225/225 [==============================] - 364s 2s/step - loss: 1.1151 - accuracy: 0.5789 - val_loss: 1.0945 - val_accuracy: 0.5821\n",
      "Epoch 28/100\n",
      "225/225 [==============================] - 365s 2s/step - loss: 1.1064 - accuracy: 0.5820 - val_loss: 1.0754 - val_accuracy: 0.5919\n",
      "Epoch 29/100\n",
      "225/225 [==============================] - 371s 2s/step - loss: 1.1063 - accuracy: 0.5819 - val_loss: 1.0742 - val_accuracy: 0.5981\n",
      "Epoch 30/100\n",
      "225/225 [==============================] - 365s 2s/step - loss: 1.0955 - accuracy: 0.5863 - val_loss: 1.0680 - val_accuracy: 0.5968\n",
      "Epoch 31/100\n",
      "225/225 [==============================] - 413s 2s/step - loss: 1.0884 - accuracy: 0.5917 - val_loss: 1.0612 - val_accuracy: 0.5985\n",
      "Epoch 32/100\n",
      "225/225 [==============================] - 383s 2s/step - loss: 1.0811 - accuracy: 0.5938 - val_loss: 1.0714 - val_accuracy: 0.5997\n",
      "Epoch 33/100\n",
      "225/225 [==============================] - 399s 2s/step - loss: 1.0660 - accuracy: 0.6011 - val_loss: 1.0617 - val_accuracy: 0.6006\n",
      "Epoch 34/100\n",
      "225/225 [==============================] - 369s 2s/step - loss: 1.0642 - accuracy: 0.6044 - val_loss: 1.0712 - val_accuracy: 0.6002\n",
      "Epoch 35/100\n",
      "225/225 [==============================] - 370s 2s/step - loss: 1.0583 - accuracy: 0.6013 - val_loss: 1.0578 - val_accuracy: 0.6004\n",
      "Epoch 36/100\n",
      "225/225 [==============================] - 371s 2s/step - loss: 1.0577 - accuracy: 0.6009 - val_loss: 1.0640 - val_accuracy: 0.5993\n",
      "Epoch 37/100\n",
      "225/225 [==============================] - 370s 2s/step - loss: 1.0440 - accuracy: 0.6098 - val_loss: 1.0556 - val_accuracy: 0.6000\n",
      "Epoch 38/100\n",
      "225/225 [==============================] - 370s 2s/step - loss: 1.0370 - accuracy: 0.6079 - val_loss: 1.0562 - val_accuracy: 0.6018\n",
      "Epoch 39/100\n",
      "225/225 [==============================] - 371s 2s/step - loss: 1.0354 - accuracy: 0.6100 - val_loss: 1.0477 - val_accuracy: 0.6089\n",
      "Epoch 40/100\n",
      "225/225 [==============================] - 368s 2s/step - loss: 1.0325 - accuracy: 0.6148 - val_loss: 1.0458 - val_accuracy: 0.6092\n",
      "Epoch 41/100\n",
      "225/225 [==============================] - 371s 2s/step - loss: 1.0220 - accuracy: 0.6181 - val_loss: 1.0543 - val_accuracy: 0.6108\n",
      "Epoch 42/100\n",
      "225/225 [==============================] - 369s 2s/step - loss: 1.0147 - accuracy: 0.6182 - val_loss: 1.0402 - val_accuracy: 0.6145\n",
      "Epoch 43/100\n",
      "225/225 [==============================] - 368s 2s/step - loss: 1.0080 - accuracy: 0.6226 - val_loss: 1.0497 - val_accuracy: 0.6031\n",
      "Epoch 44/100\n",
      "225/225 [==============================] - 369s 2s/step - loss: 0.9985 - accuracy: 0.6258 - val_loss: 1.0377 - val_accuracy: 0.6067\n",
      "Epoch 45/100\n",
      "225/225 [==============================] - 369s 2s/step - loss: 0.9980 - accuracy: 0.6261 - val_loss: 1.0495 - val_accuracy: 0.6064\n",
      "Epoch 46/100\n",
      "225/225 [==============================] - 368s 2s/step - loss: 0.9899 - accuracy: 0.6306 - val_loss: 1.0469 - val_accuracy: 0.6108\n",
      "Epoch 47/100\n",
      "225/225 [==============================] - 369s 2s/step - loss: 0.9879 - accuracy: 0.6316 - val_loss: 1.0463 - val_accuracy: 0.6032\n",
      "Epoch 48/100\n",
      "225/225 [==============================] - 373s 2s/step - loss: 0.9850 - accuracy: 0.6314 - val_loss: 1.0345 - val_accuracy: 0.6127\n",
      "Epoch 49/100\n",
      "225/225 [==============================] - 370s 2s/step - loss: 0.9763 - accuracy: 0.6374 - val_loss: 1.0398 - val_accuracy: 0.6103\n",
      "Epoch 50/100\n",
      "225/225 [==============================] - 370s 2s/step - loss: 0.9717 - accuracy: 0.6364 - val_loss: 1.0248 - val_accuracy: 0.6158\n",
      "Epoch 51/100\n",
      "225/225 [==============================] - 386s 2s/step - loss: 0.9629 - accuracy: 0.6422 - val_loss: 1.0301 - val_accuracy: 0.6145\n",
      "Epoch 52/100\n",
      "225/225 [==============================] - 429s 2s/step - loss: 0.9578 - accuracy: 0.6453 - val_loss: 1.0319 - val_accuracy: 0.6140\n",
      "Epoch 53/100\n",
      "225/225 [==============================] - 415s 2s/step - loss: 0.9523 - accuracy: 0.6435 - val_loss: 1.0267 - val_accuracy: 0.6180\n",
      "Epoch 54/100\n",
      "225/225 [==============================] - 417s 2s/step - loss: 0.9499 - accuracy: 0.6455 - val_loss: 1.0397 - val_accuracy: 0.6128\n",
      "Epoch 55/100\n",
      "225/225 [==============================] - 376s 2s/step - loss: 0.9503 - accuracy: 0.6473 - val_loss: 1.0299 - val_accuracy: 0.6155\n",
      "Epoch 56/100\n",
      "225/225 [==============================] - 398s 2s/step - loss: 0.9342 - accuracy: 0.6532 - val_loss: 1.0274 - val_accuracy: 0.6155\n",
      "Epoch 57/100\n",
      "225/225 [==============================] - 408s 2s/step - loss: 0.9306 - accuracy: 0.6559 - val_loss: 1.0261 - val_accuracy: 0.6244\n",
      "Epoch 58/100\n",
      "225/225 [==============================] - 417s 2s/step - loss: 0.9278 - accuracy: 0.6528 - val_loss: 1.0247 - val_accuracy: 0.6220\n",
      "Epoch 59/100\n",
      "225/225 [==============================] - 413s 2s/step - loss: 0.9228 - accuracy: 0.6578 - val_loss: 1.0273 - val_accuracy: 0.6188\n",
      "Epoch 60/100\n",
      "225/225 [==============================] - 388s 2s/step - loss: 0.9135 - accuracy: 0.6634 - val_loss: 1.0312 - val_accuracy: 0.6215\n",
      "Epoch 61/100\n",
      "225/225 [==============================] - 391s 2s/step - loss: 0.9099 - accuracy: 0.6650 - val_loss: 1.0224 - val_accuracy: 0.6211\n",
      "Epoch 62/100\n",
      "225/225 [==============================] - 393s 2s/step - loss: 0.9138 - accuracy: 0.6623 - val_loss: 1.0154 - val_accuracy: 0.6239\n",
      "Epoch 63/100\n",
      "225/225 [==============================] - 385s 2s/step - loss: 0.8937 - accuracy: 0.6675 - val_loss: 1.0281 - val_accuracy: 0.6233\n",
      "Epoch 64/100\n",
      "225/225 [==============================] - 390s 2s/step - loss: 0.9018 - accuracy: 0.6652 - val_loss: 1.0294 - val_accuracy: 0.6173\n",
      "Epoch 65/100\n",
      "225/225 [==============================] - 386s 2s/step - loss: 0.8941 - accuracy: 0.6674 - val_loss: 1.0268 - val_accuracy: 0.6237\n",
      "Epoch 66/100\n",
      "225/225 [==============================] - 392s 2s/step - loss: 0.8863 - accuracy: 0.6733 - val_loss: 1.0222 - val_accuracy: 0.6230\n",
      "Epoch 67/100\n",
      "225/225 [==============================] - 405s 2s/step - loss: 0.8847 - accuracy: 0.6706 - val_loss: 1.0161 - val_accuracy: 0.6247\n",
      "Epoch 68/100\n",
      "225/225 [==============================] - 391s 2s/step - loss: 0.8817 - accuracy: 0.6752 - val_loss: 1.0241 - val_accuracy: 0.6170\n",
      "Epoch 69/100\n",
      "225/225 [==============================] - 399s 2s/step - loss: 0.8732 - accuracy: 0.6773 - val_loss: 1.0275 - val_accuracy: 0.6199\n",
      "Epoch 70/100\n",
      "225/225 [==============================] - 376s 2s/step - loss: 0.8702 - accuracy: 0.6787 - val_loss: 1.0180 - val_accuracy: 0.6301\n",
      "Epoch 71/100\n",
      "225/225 [==============================] - 373s 2s/step - loss: 0.8663 - accuracy: 0.6801 - val_loss: 1.0295 - val_accuracy: 0.6188\n",
      "Epoch 72/100\n",
      "225/225 [==============================] - 370s 2s/step - loss: 0.8665 - accuracy: 0.6801 - val_loss: 1.0290 - val_accuracy: 0.6254\n",
      "Epoch 73/100\n",
      "225/225 [==============================] - 373s 2s/step - loss: 0.8606 - accuracy: 0.6818 - val_loss: 1.0314 - val_accuracy: 0.6216\n",
      "Epoch 74/100\n",
      "225/225 [==============================] - 406s 2s/step - loss: 0.8533 - accuracy: 0.6834 - val_loss: 1.0216 - val_accuracy: 0.6204\n",
      "Epoch 75/100\n",
      "225/225 [==============================] - 453s 2s/step - loss: 0.8447 - accuracy: 0.6874 - val_loss: 1.0277 - val_accuracy: 0.6245\n",
      "Epoch 76/100\n",
      "225/225 [==============================] - 409s 2s/step - loss: 0.8412 - accuracy: 0.6887 - val_loss: 1.0185 - val_accuracy: 0.6280\n",
      "Epoch 77/100\n",
      "225/225 [==============================] - 471s 2s/step - loss: 0.8412 - accuracy: 0.6919 - val_loss: 1.0175 - val_accuracy: 0.6291\n",
      "Epoch 78/100\n",
      "225/225 [==============================] - 388s 2s/step - loss: 0.8306 - accuracy: 0.6963 - val_loss: 1.0257 - val_accuracy: 0.6222\n",
      "Epoch 79/100\n",
      "225/225 [==============================] - 397s 2s/step - loss: 0.8311 - accuracy: 0.6962 - val_loss: 1.0370 - val_accuracy: 0.6297\n",
      "Epoch 80/100\n",
      "225/225 [==============================] - 402s 2s/step - loss: 0.8229 - accuracy: 0.6990 - val_loss: 1.0311 - val_accuracy: 0.6258\n",
      "Epoch 81/100\n",
      "225/225 [==============================] - 466s 2s/step - loss: 0.8236 - accuracy: 0.6992 - val_loss: 1.0187 - val_accuracy: 0.6317\n",
      "Epoch 82/100\n",
      "225/225 [==============================] - 438s 2s/step - loss: 0.8244 - accuracy: 0.6990 - val_loss: 1.0280 - val_accuracy: 0.6293\n",
      "Epoch 83/100\n",
      "225/225 [==============================] - 435s 2s/step - loss: 0.8134 - accuracy: 0.7046 - val_loss: 1.0256 - val_accuracy: 0.6276\n",
      "Epoch 84/100\n",
      "225/225 [==============================] - 454s 2s/step - loss: 0.8120 - accuracy: 0.7050 - val_loss: 1.0204 - val_accuracy: 0.6318\n",
      "Epoch 85/100\n",
      "225/225 [==============================] - 414s 2s/step - loss: 0.8141 - accuracy: 0.7014 - val_loss: 1.0230 - val_accuracy: 0.6286\n",
      "Epoch 86/100\n",
      "225/225 [==============================] - 415s 2s/step - loss: 0.8077 - accuracy: 0.7035 - val_loss: 1.0292 - val_accuracy: 0.6282\n",
      "Epoch 87/100\n",
      "225/225 [==============================] - 400s 2s/step - loss: 0.7918 - accuracy: 0.7112 - val_loss: 1.0282 - val_accuracy: 0.6337\n",
      "Epoch 88/100\n",
      "225/225 [==============================] - 381s 2s/step - loss: 0.7928 - accuracy: 0.7104 - val_loss: 1.0352 - val_accuracy: 0.6269\n",
      "Epoch 89/100\n",
      "225/225 [==============================] - 377s 2s/step - loss: 0.7891 - accuracy: 0.7113 - val_loss: 1.0432 - val_accuracy: 0.6279\n",
      "Epoch 90/100\n",
      "225/225 [==============================] - 403s 2s/step - loss: 0.7784 - accuracy: 0.7170 - val_loss: 1.0316 - val_accuracy: 0.6305\n",
      "Epoch 91/100\n",
      "225/225 [==============================] - 506s 2s/step - loss: 0.7846 - accuracy: 0.7086 - val_loss: 1.0447 - val_accuracy: 0.6300\n",
      "Epoch 92/100\n",
      "225/225 [==============================] - 575s 3s/step - loss: 0.7766 - accuracy: 0.7172 - val_loss: 1.0375 - val_accuracy: 0.6257\n",
      "Epoch 93/100\n",
      "225/225 [==============================] - 528s 2s/step - loss: 0.7781 - accuracy: 0.7181 - val_loss: 1.0304 - val_accuracy: 0.6339\n",
      "Epoch 94/100\n",
      "225/225 [==============================] - 449s 2s/step - loss: 0.7691 - accuracy: 0.7197 - val_loss: 1.0338 - val_accuracy: 0.6283\n",
      "Epoch 95/100\n",
      "225/225 [==============================] - 419s 2s/step - loss: 0.7750 - accuracy: 0.7212 - val_loss: 1.0408 - val_accuracy: 0.6213\n",
      "Epoch 96/100\n",
      "225/225 [==============================] - 418s 2s/step - loss: 0.7709 - accuracy: 0.7201 - val_loss: 1.0284 - val_accuracy: 0.6354\n",
      "Epoch 97/100\n",
      "225/225 [==============================] - 429s 2s/step - loss: 0.7703 - accuracy: 0.7173 - val_loss: 1.0302 - val_accuracy: 0.6347\n",
      "Epoch 98/100\n",
      "225/225 [==============================] - 418s 2s/step - loss: 0.7585 - accuracy: 0.7247 - val_loss: 1.0366 - val_accuracy: 0.6346\n",
      "Epoch 99/100\n",
      "225/225 [==============================] - 418s 2s/step - loss: 0.7537 - accuracy: 0.7257 - val_loss: 1.0261 - val_accuracy: 0.6356\n",
      "Epoch 100/100\n",
      "225/225 [==============================] - 424s 2s/step - loss: 0.7570 - accuracy: 0.7270 - val_loss: 1.0215 - val_accuracy: 0.6367\n"
     ]
    },
    {
     "data": {
      "text/plain": [
       "<keras.callbacks.History at 0x2427f1b1880>"
      ]
     },
     "execution_count": 30,
     "metadata": {},
     "output_type": "execute_result"
    }
   ],
   "source": [
    "model.fit(x = x_train, y = y_train, batch_size = 128, epochs = 100, validation_data = (x_test, y_test))"
   ]
  },
  {
   "cell_type": "markdown",
   "id": "08af5a88",
   "metadata": {},
   "source": [
    "### Saving and loading model "
   ]
  },
  {
   "cell_type": "code",
   "execution_count": 31,
   "id": "c3edfe5b",
   "metadata": {},
   "outputs": [],
   "source": [
    "model_json = model.to_json()\n",
    "with open(\"emotionsdetectormodel.json\", 'w') as json_file:\n",
    "    json_file.write(model_json)\n",
    "model.save(\"emotionsdetectormodel.h5\")"
   ]
  },
  {
   "cell_type": "code",
   "execution_count": 19,
   "id": "fa09514a",
   "metadata": {},
   "outputs": [],
   "source": [
    "from keras.models import model_from_json\n",
    "json_file = open(\"emotionsdetectormodel.json\", \"r\")\n",
    "model_json = json_file.read()\n",
    "json_file.close()\n",
    "model = model_from_json(model_json)\n",
    "model.load_weights(\"emotionsdetectormodel.h5\")"
   ]
  },
  {
   "cell_type": "code",
   "execution_count": 20,
   "id": "1cae6fc9",
   "metadata": {},
   "outputs": [],
   "source": [
    "label = ['angry', 'disgusted', 'fearful', 'happy', 'neutral', 'sad', 'surprised']"
   ]
  },
  {
   "cell_type": "markdown",
   "id": "3b967e74",
   "metadata": {},
   "source": [
    "### Testing model"
   ]
  },
  {
   "cell_type": "code",
   "execution_count": 21,
   "id": "e0bb2eb9",
   "metadata": {},
   "outputs": [],
   "source": [
    "def ef(image):\n",
    "    img = load_img(image, grayscale = True)\n",
    "    feature = np.array(img)\n",
    "    feature = feature.reshape(1,48,48,1)\n",
    "    return feature/255.0\n"
   ]
  },
  {
   "cell_type": "code",
   "execution_count": 22,
   "id": "b085a789",
   "metadata": {},
   "outputs": [
    {
     "name": "stdout",
     "output_type": "stream",
     "text": [
      "The image is happy\n",
      "1/1 [==============================] - 0s 472ms/step\n",
      "Model prediction is happy\n"
     ]
    },
    {
     "data": {
      "text/plain": [
       "<matplotlib.image.AxesImage at 0x19cd14d70a0>"
      ]
     },
     "execution_count": 22,
     "metadata": {},
     "output_type": "execute_result"
    },
    {
     "data": {
      "image/png": "[encoded data removed]",
      "text/plain": [
       "<Figure size 432x288 with 1 Axes>"
      ]
     },
     "metadata": {
      "needs_background": "light"
     },
     "output_type": "display_data"
    }
   ],
   "source": [
    "image = \"emotion-detection-fer/test/happy/im8.png\"\n",
    "print(\"The image is happy\")\n",
    "img = ef(image)\n",
    "pred = model.predict(img)\n",
    "pred_label = label[pred.argmax()]\n",
    "print(\"Model prediction is\", pred_label)\n",
    "plt.imshow(img.reshape(48,48), cmap = 'gry')"
   ]
  },
  {
   "cell_type": "code",
   "execution_count": 23,
   "id": "2c34b779",
   "metadata": {},
   "outputs": [
    {
     "name": "stdout",
     "output_type": "stream",
     "text": [
      "The image is disgusted\n",
      "1/1 [==============================] - 0s 55ms/step\n",
      "Model prediction is disgusted\n"
     ]
    },
    {
     "data": {
      "text/plain": [
       "<matplotlib.image.AxesImage at 0x19cd1578b20>"
      ]
     },
     "execution_count": 23,
     "metadata": {},
     "output_type": "execute_result"
    },
    {
     "data": {
      "image/png": "[encoded data removed]",
      "text/plain": [
       "<Figure size 432x288 with 1 Axes>"
      ]
     },
     "metadata": {
      "needs_background": "light"
     },
     "output_type": "display_data"
    }
   ],
   "source": [
    "image = \"emotion-detection-fer/test/disgusted/im17.png\"\n",
    "print(\"The image is disgusted\")\n",
    "img = ef(image)\n",
    "pred = model.predict(img)\n",
    "pred_label = label[pred.argmax()]\n",
    "print(\"Model prediction is\", pred_label)\n",
    "plt.imshow(img.reshape(48,48), cmap = 'gray')"
   ]
  },
  {
   "cell_type": "code",
   "execution_count": 25,
   "id": "c8f4c2bb",
   "metadata": {},
   "outputs": [
    {
     "name": "stdout",
     "output_type": "stream",
     "text": [
      "He seems happy\n",
      "1/1 [==============================] - 0s 44ms/step\n",
      "Model prediction is happy\n"
     ]
    },
    {
     "data": {
      "text/plain": [
       "<matplotlib.image.AxesImage at 0x19cd1624580>"
      ]
     },
     "execution_count": 25,
     "metadata": {},
     "output_type": "execute_result"
    },
    {
     "data": {
      "image/png": "[encoded data removed]",
      "text/plain": [
       "<Figure size 432x288 with 1 Axes>"
      ]
     },
     "metadata": {
      "needs_background": "light"
     },
     "output_type": "display_data"
    }
   ],
   "source": [
    "image = \"C:/Users/diego/Desktop/choco_mod.png\"\n",
    "print(\"He seems happy\")\n",
    "img = ef(image)\n",
    "pred = model.predict(img)\n",
    "pred_label = label[pred.argmax()]\n",
    "print(\"Model prediction is\", pred_label)\n",
    "plt.imshow(img.reshape(48,48), cmap = 'gray')"
   ]
  },
  {
   "cell_type": "code",
   "execution_count": null,
   "id": "4de60803",
   "metadata": {},
   "outputs": [],
   "source": []
  }
 ],
 "metadata": {
  "kernelspec": {
   "display_name": "Python 3 (ipykernel)",
   "language": "python",
   "name": "python3"
  },
  "language_info": {
   "codemirror_mode": {
    "name": "ipython",
    "version": 3
   },
   "file_extension": ".py",
   "mimetype": "text/x-python",
   "name": "python",
   "nbconvert_exporter": "python",
   "pygments_lexer": "ipython3",
   "version": "3.9.12"
  }
 },
 "nbformat": 4,
 "nbformat_minor": 5
}
